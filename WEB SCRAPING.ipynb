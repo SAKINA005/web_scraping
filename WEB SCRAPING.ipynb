{
 "cells": [
  {
   "cell_type": "markdown",
   "metadata": {},
   "source": [
    "WEB SCRAPING"
   ]
  },
  {
   "cell_type": "markdown",
   "metadata": {},
   "source": [
    "Écrire une fonction pour obtenir et analyser le contenu HTML d'une page Wikipédia\n",
    " \n",
    "\n",
    "Écrire une fonction pour extraire le texte de l'article pour chaque paragraphe avec leurs titres respectifs. Mapper ces titres à leurs paragraphes respectifs dans un dictionnaire.\n",
    " \n",
    "Écrire une fonction pour collecter chaque lien qui redirige vers une autre page Wikipédia\n",
    " \n",
    "Regrouper toutes les fonctions précédentes en une seule fonction qui prend comme paramètre un lien Wikipédia\n",
    " "
   ]
  },
  {
   "cell_type": "code",
   "execution_count": 15,
   "metadata": {},
   "outputs": [],
   "source": [
    "import requests\n",
    "from bs4 import BeautifulSoup\n",
    "\n",
    "def first_one(link):\n",
    "    link='https://fr.wikipedia.org/wiki/Sociologie'\n",
    "    page=requests.get(link)\n",
    "    soup=BeautifulSoup(page.content,'html.parser')\n",
    "    return  soup.prettify()\n",
    "\n",
    "\n",
    "#Écrire une fonction pour extraire le titre de l'article\n",
    "def second_one(link):\n",
    "    link='https://fr.wikipedia.org/wiki/Sociologie'\n",
    "    page=requests.get(link)\n",
    "    soup=BeautifulSoup(page.content,'html.parser')\n",
    "    title=soup.find('h1')\n",
    "    return title.get_text()\n",
    "\n",
    "     \n",
    "#Écrire une fonction pour extraire le texte de l'article pour chaque paragraphe avec leurs titres respectifs. Mapper ces titres à leurs paragraphes respectifs dans un dictionnaire.\n",
    "def third_one(link):\n",
    "    link='https://fr.wikipedia.org/wiki/Sociologie'\n",
    "    page=requests.get(link)\n",
    "    soup=BeautifulSoup(page.content,'html.parser')\n",
    "    result={}\n",
    "    for header in soup.find_all(['h1', 'h2', 'h3']):  # Cherche tous les <h1>, <h2> et <h3>\n",
    "        title = header.get_text().strip()  # .strip() pour enlever les espaces inutiles\n",
    "        result[title]=[]\n",
    "\n"
   ]
  }
 ],
 "metadata": {
  "kernelspec": {
   "display_name": "Python 3",
   "language": "python",
   "name": "python3"
  },
  "language_info": {
   "codemirror_mode": {
    "name": "ipython",
    "version": 3
   },
   "file_extension": ".py",
   "mimetype": "text/x-python",
   "name": "python",
   "nbconvert_exporter": "python",
   "pygments_lexer": "ipython3",
   "version": "3.11.9"
  }
 },
 "nbformat": 4,
 "nbformat_minor": 2
}
